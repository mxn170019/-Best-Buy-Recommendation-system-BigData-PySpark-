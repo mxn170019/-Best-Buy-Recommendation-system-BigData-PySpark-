{
 "cells": [
  {
   "cell_type": "code",
   "execution_count": null,
   "metadata": {},
   "outputs": [],
   "source": [
    "import xml.etree.ElementTree as ElementTree"
   ]
  },
  {
   "cell_type": "code",
   "execution_count": null,
   "metadata": {},
   "outputs": [],
   "source": [
    "def getproducts(s):\n",
    "   filetree = ElementTree.fromstring(s)\n",
    "   return filetree.getiterator('product')\n",
    "def getsku(product):\n",
    "    return product.find('sku').text \n",
    "def getname(product):\n",
    "    return product.find('name').text \n",
    "def getproductid(product):\n",
    "    return product.find('productId').text \n",
    "\n",
    "# Read XML files into an RDD \n",
    "\n",
    "files_products=\"{PATH}*.xml\"\n",
    "productFiles = sc.wholeTextFiles(files_products)\n",
    "\n",
    "# Parse each file (as a string) into a collection of product XML records\n",
    "productRecords = productFiles.flatMap(lambda (filename,xmlstring): getproducts(xmlstring))\n",
    "\n",
    "# Map each product record to sku, productid and name \n",
    "models = productRecords.map(lambda record: getsku(record) + \",\" +  getname(record)+ \",\" + getproductid(record))\n",
    "\n",
    "# Save the data to a file\n",
    "models.saveAsTextFile(\"{PATH to save}\")"
   ]
  },
  {
   "cell_type": "code",
   "execution_count": null,
   "metadata": {},
   "outputs": [],
   "source": [
    "def getcategory(s):\n",
    "   filetree = ElementTree.fromstring(s)\n",
    "   return filetree.getiterator('category')\n",
    "def getid(category):\n",
    "    return category.find('id').text \n",
    "def getname(category):\n",
    "    return category.find('name').text \n",
    "\n",
    "# Read XML files into an RDD \n",
    "\n",
    "files_category=\"{PATH}*.xml\"\n",
    "categoryFiles = sc.wholeTextFiles(files_category)\n",
    "\n",
    "# Parse each file (as a string) into a collection of product XML records\n",
    "categoryRecords = categoryFiles.flatMap(lambda (filename,xmlstring): getcategory(xmlstring))\n",
    "\n",
    "# Map each product record to sku, productid and name \n",
    "models = categoryRecords.map(lambda record: getsku(record) + \",\" +  getname(record)+ \",\" + getproductid(record))\n",
    "\n",
    "# Save the data to a file\n",
    "models.saveAsTextFile(\"{PATH to save}\")"
   ]
  },
  {
   "cell_type": "code",
   "execution_count": null,
   "metadata": {},
   "outputs": [],
   "source": [
    "def getreviews(s):\n",
    "   filetree = ElementTree.fromstring(s)\n",
    "   return filetree.getiterator('review')\n",
    "def getid(review):\n",
    "    return review.find('id').text \n",
    "def getsku(review):\n",
    "    return review.find('sku').text\n",
    "def getrating(review):\n",
    "    return review.find('rating').text\n",
    "def gettitle(review):\n",
    "    return review.find('title').text\n",
    "def getcomment(review):\n",
    "    return review.find('comment').text\n",
    "\n",
    "\n",
    "# Read XML files into an RDD \n",
    "\n",
    "files_reviews=\"{PATH}*.xml\"\n",
    "reviewsFiles = sc.wholeTextFiles(files_reviews)\n",
    "\n",
    "# Parse each file (as a string) into a collection of product XML records\n",
    "reviewsRecords = reviewsFiles.flatMap(lambda (filename,xmlstring): getreviews(xmlstring))\n",
    "\n",
    "# Map each product record to sku, productid and name \n",
    "models = reviewsRecords.map(lambda record:getid(record)+\",\"+getsku(record)+\",\"+getrating(record)+\",\"+gettitle(record)+\",\"+getcomment(record))\n",
    "\n",
    "# Save the data to a file\n",
    "models.saveAsTextFile(\"{PATH to save}\")"
   ]
  },
  {
   "cell_type": "code",
   "execution_count": null,
   "metadata": {},
   "outputs": [],
   "source": []
  }
 ],
 "metadata": {
  "kernelspec": {
   "display_name": "Python 3",
   "language": "python",
   "name": "python3"
  },
  "language_info": {
   "codemirror_mode": {
    "name": "ipython",
    "version": 3
   },
   "file_extension": ".py",
   "mimetype": "text/x-python",
   "name": "python",
   "nbconvert_exporter": "python",
   "pygments_lexer": "ipython3",
   "version": "3.7.2"
  },
  "latex_envs": {
   "LaTeX_envs_menu_present": true,
   "autoclose": false,
   "autocomplete": true,
   "bibliofile": "biblio.bib",
   "cite_by": "apalike",
   "current_citInitial": 1,
   "eqLabelWithNumbers": true,
   "eqNumInitial": 1,
   "hotkeys": {
    "equation": "Ctrl-E",
    "itemize": "Ctrl-I"
   },
   "labels_anchors": false,
   "latex_user_defs": false,
   "report_style_numbering": false,
   "user_envs_cfg": false
  }
 },
 "nbformat": 4,
 "nbformat_minor": 2
}
